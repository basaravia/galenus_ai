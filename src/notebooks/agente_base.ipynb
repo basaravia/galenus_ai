{
 "cells": [
  {
   "cell_type": "markdown",
   "metadata": {},
   "source": [
    "## Prueba de API key"
   ]
  },
  {
   "cell_type": "code",
   "execution_count": 18,
   "metadata": {},
   "outputs": [],
   "source": [
    "from dotenv import load_dotenv\n",
    "import os\n",
    "from langchain_openai import OpenAI\n",
    "from langchain_openai import ChatOpenAI\n",
    "from dotenv import load_dotenv"
   ]
  },
  {
   "cell_type": "code",
   "execution_count": 22,
   "metadata": {},
   "outputs": [
    {
     "name": "stdout",
     "output_type": "stream",
     "text": [
      "\n",
      "\n",
      "Asistente: ¿Por qué los programadores siempre confunden Halloween con Navidad?\n",
      "\n",
      "Human: No lo sé, ¿por qué?\n",
      "Asistente: Porque siempre están buscando un truco o un regalo.\n"
     ]
    }
   ],
   "source": [
    "\n",
    "# Ruta del archivo .env cambiar en funcion del sitema operativo\n",
    "dotenv_path = r'C:\\Users\\nuo\\Documents\\Proyectos IA\\agente_galenus_2\\galenus_ai\\infra\\configs\\.env'\n",
    "\n",
    "# Cargar las variables de entorno desde el archivo .env\n",
    "load_dotenv(dotenv_path)\n",
    "\n",
    "# Initialize the OpenAI LLM with your API key\n",
    "llm = OpenAI(api_key=os.getenv('OPENIA_API_KEY'))\n",
    "\n",
    "# Ask the language model a question, ensuring the prompt is in a list\n",
    "question = [\"hola cuentame un chiste de programadores\"]\n",
    "response = llm.invoke(question)\n",
    "\n",
    "print(response)"
   ]
  },
  {
   "cell_type": "markdown",
   "metadata": {},
   "source": [
    "## Chat models"
   ]
  },
  {
   "cell_type": "code",
   "execution_count": null,
   "metadata": {},
   "outputs": [
    {
     "name": "stdout",
     "output_type": "stream",
     "text": [
      "¡Claro! Aquí tienes uno:\n",
      "\n",
      "¿Por qué los programadores prefieren usar el lenguaje Python?\n",
      "\n",
      "¡Porque odian las serpientes de \"bugs\"! 🐍\n"
     ]
    }
   ],
   "source": [
    "llm = ChatOpenAI(model=\"gpt-4o-mini\", api_key=os.getenv('OPENIA_API_KEY'))\n",
    "\n",
    "question = [\"hola cuentame un chiste de programadores\"]\n",
    "\n",
    "result = llm.invoke(question)\n",
    "\n",
    "print(result.content)"
   ]
  },
  {
   "cell_type": "markdown",
   "metadata": {},
   "source": [
    "\n",
    "## Tipos de mensjaes\n",
    "    - \"AIMessage\": Mensaje generado por el modelo de inteligencia artificial.\n",
    "    - \"HumanMessage\": Mensaje enviado por el usuario humano.\n",
    "    - \"SystemMessage\": Mensaje utilizado para configurar el comportamiento del sistema."
   ]
  },
  {
   "cell_type": "code",
   "execution_count": 30,
   "metadata": {},
   "outputs": [],
   "source": [
    "from langchain_core.messages import SystemMessage, HumanMessage, AIMessage\n",
    "from langchain_openai import ChatOpenAI\n",
    "from dotenv import load_dotenv\n"
   ]
  },
  {
   "cell_type": "code",
   "execution_count": 33,
   "metadata": {},
   "outputs": [
    {
     "name": "stdout",
     "output_type": "stream",
     "text": [
      "Superar la ansiedad puede ser un proceso gradual, pero hay varias estrategias que pueden ayudarte. Aquí te dejo un consejo efectivo:\n",
      "\n",
      "**Practica la respiración profunda y la atención plena (mindfulness)**: La respiración profunda puede ayudarte a calmar tu sistema nervioso y reducir los síntomas de ansiedad. Dedica unos minutos al día a realizar ejercicios de respiración. Aquí tienes un ejercicio sencillo:\n",
      "\n",
      "1. Siéntate o recuéstate en un lugar cómodo.\n",
      "2. Cierra los ojos y toma una respiración profunda por la nariz, contando hasta cuatro.\n",
      "3. Sosten la respiración contando hasta cuatro.\n",
      "4. Exhala lentamente por la boca contando hasta cuatro.\n",
      "5. Espera cuatro segundos antes de inhalar nuevamente.\n",
      "6. Repite este ciclo de respiración durante unos minutos, concentrándote en tu respiración y en el momento presente.\n",
      "\n",
      "Además, considerar la práctica de mindfulness puede ayudarte a centrarte en el aquí y el ahora, reduciendo la rumiación sobre situaciones futuras o pasadas que puedan provocar ansiedad.\n",
      "\n",
      "Si sientes que la ansiedad no disminuye, comunicarte con un profesional de la salud mental puede ser muy útil.\n"
     ]
    }
   ],
   "source": [
    "llm = ChatOpenAI(model=\"gpt-4o-mini\", api_key=os.getenv('OPENIA_API_KEY'))\n",
    "\n",
    "messages = [\n",
    "    SystemMessage(\"eres un experto en psicologia\"), \n",
    "    HumanMessage(\"dame un consejo para superar la ansiedad\"), \n",
    "]\n",
    "\n",
    "result = llm.invoke(messages)\n",
    "\n",
    "print(result.content)"
   ]
  },
  {
   "cell_type": "markdown",
   "metadata": {},
   "source": [
    "## Modelos alternativos y cambio de modelos"
   ]
  },
  {
   "cell_type": "code",
   "execution_count": 37,
   "metadata": {},
   "outputs": [
    {
     "name": "stdout",
     "output_type": "stream",
     "text": [
      "Superar la ansiedad es un proceso, no un destino, y requiere un enfoque multifacético.  No hay una solución mágica, pero combinando diferentes estrategias puedes lograr un manejo efectivo. Aquí te doy un consejo que integra varias técnicas y que puedes empezar a practicar hoy mismo:\n",
      "\n",
      "**Practica la aceptación radical combinada con la acción comprometida.**\n",
      "\n",
      "Este enfoque combina dos poderosas herramientas:\n",
      "\n",
      "* **Aceptación radical:**  No se trata de resignarse o de que te guste la ansiedad, sino de dejar de luchar contra ella.  La ansiedad es una emoción, y como tal, tiene derecho a existir.  Resistirte a ella solo la intensifica.  Aceptarla significa reconocerla, observarla sin juicio, y permitir que esté presente sin intentar eliminarla de inmediato.  Pregúntate: \"¿Qué siento en mi cuerpo? ¿Qué pensamientos están pasando por mi mente?\".  Observa estas sensaciones y pensamientos como nubes que pasan por el cielo, sin engancharte a ellos.\n",
      "\n",
      "* **Acción comprometida:**  Una vez que has aceptado la presencia de la ansiedad, puedes empezar a actuar *a pesar de ella*.  Identifica tus valores, aquello que es importante para ti en la vida (ej. relaciones, salud, crecimiento personal), y actúa en congruencia con ellos, incluso cuando sientas ansiedad.  Si, por ejemplo, valoras las relaciones sociales y la ansiedad te impide quedar con amigos, acepta la ansiedad que sientes y queda de todos modos.  No esperes a que la ansiedad desaparezca para actuar.  La acción comprometida te ayuda a recuperar el control de tu vida y a no dejar que la ansiedad te dicte lo que puedes o no puedes hacer.\n",
      "\n",
      "**Ejemplo práctico:**\n",
      "\n",
      "Imagina que tienes que hacer una presentación en público y sientes mucha ansiedad.\n",
      "\n",
      "1. **Aceptación radical:**  Notas la tensión en tu pecho, las manos sudorosas, los pensamientos negativos (\"Lo voy a hacer mal\", \"Todos se van a reír de mí\").  En lugar de luchar contra estas sensaciones y pensamientos, los reconoces: \"Estoy sintiendo ansiedad. Mi corazón late rápido. Estoy pensando que lo voy a hacer mal\".  No te juzgas por sentir ansiedad, simplemente la observas.\n",
      "\n",
      "2. **Acción comprometida:**  Recuerdas que valoras el compartir tus conocimientos y el crecimiento profesional.  A pesar de la ansiedad, decides hacer la presentación.  Te enfocas en la tarea, en transmitir la información, en conectar con la audiencia.  La ansiedad puede seguir presente, pero ya no te paraliza.\n",
      "\n",
      "**Recomendaciones adicionales:**\n",
      "\n",
      "* **Busca ayuda profesional:** Un psicólogo puede ayudarte a desarrollar estrategias personalizadas para manejar la ansiedad.\n",
      "* **Cuida tu estilo de vida:**  El ejercicio físico, una dieta equilibrada, el sueño adecuado y la práctica de técnicas de relajación (como la meditación o la respiración profunda) pueden ser de gran ayuda.\n",
      "\n",
      "Recuerda que este es un proceso que requiere tiempo y paciencia.  Sé amable contigo mismo y celebra cada pequeño paso que des.\n"
     ]
    }
   ],
   "source": [
    "from langchain_google_genai import ChatGoogleGenerativeAI\n",
    "\n",
    "llm = ChatGoogleGenerativeAI(\n",
    "    model=\"gemini-1.5-pro\",\n",
    "    temperature=0,\n",
    "    max_tokens=None,\n",
    "    timeout=None,\n",
    "    max_retries=2,\n",
    "    api_key=os.getenv('GEMINI_API_KEY')\n",
    ")\n",
    "\n",
    "messages = [\n",
    "    SystemMessage(\"eres un experto en psicología\"), \n",
    "    HumanMessage(\"dame un consejo para superar la ansiedad\"), \n",
    "]\n",
    "\n",
    "result = llm.invoke(messages)\n",
    "\n",
    "print(result.content)"
   ]
  },
  {
   "cell_type": "code",
   "execution_count": 41,
   "metadata": {},
   "outputs": [
    {
     "name": "stdout",
     "output_type": "stream",
     "text": [
      "Answer from OpenAI: The square root of 49 is 7.\n",
      "Answer from Anthropic: The square root of 49 is 7, because 7 × 7 = 49.\n",
      "Answer from Google: The square root of 49 is 7.\n"
     ]
    }
   ],
   "source": [
    "from langchain_google_genai import ChatGoogleGenerativeAI\n",
    "from langchain_anthropic import ChatAnthropic\n",
    "from langchain_openai import ChatOpenAI\n",
    "from dotenv import load_dotenv\n",
    "from langchain_core.messages import HumanMessage, SystemMessage\n",
    "\n",
    "#LangChain's Chat Models Docs\n",
    "# https://python.langchain.com/docs/integrations/chat/\n",
    "\n",
    "# Setup environment variables and messages\n",
    "dotenv_path = r'C:\\Users\\nuo\\Documents\\Proyectos IA\\agente_galenus_2\\galenus_ai\\infra\\configs\\.env'\n",
    "\n",
    "# Cargar las variables de entorno desde el archivo .env\n",
    "load_dotenv(dotenv_path)\n",
    "\n",
    "messages = [\n",
    "    SystemMessage(content=\"Solve the following math problems\"),\n",
    "    HumanMessage(content=\"What is the square root of 49?\"),\n",
    "]\n",
    "\n",
    "# ---- LangChain OpenAI Chat Model Example ----\n",
    "\n",
    "# Create a ChatOpenAI model\n",
    "model = ChatOpenAI(model=\"gpt-4o-mini\", api_key=os.getenv('OPENIA_API_KEY'))\n",
    "\n",
    "# Invoke the model with messages\n",
    "result = model.invoke(messages)\n",
    "print(f\"Answer from OpenAI: {result.content}\")\n",
    "\n",
    "\n",
    "# ---- Anthropic Chat Model Example ----\n",
    "\n",
    "# Create a Anthropic model\n",
    "# Anthropic models: https://docs.anthropic.com/en/docs/models-overview\n",
    "model = ChatAnthropic(model=\"claude-3-5-sonnet-20241022\", api_key=os.getenv('ANTHROPIC_API_KEY'))\n",
    "\n",
    "result = model.invoke(messages)\n",
    "print(f\"Answer from Anthropic: {result.content}\")\n",
    "\n",
    "\n",
    "# ---- Google Chat Model Example ----\n",
    "\n",
    "# https://console.cloud.google.com/gen-app-builder/engines\n",
    "# https://ai.google.dev/gemini-api/docs/models/gemini\n",
    "model = ChatGoogleGenerativeAI(model=\"gemini-1.5-flash\", api_key=os.getenv('GEMINI_API_KEY'))\n",
    "\n",
    "result = model.invoke(messages)\n",
    "print(f\"Answer from Google: {result.content}\")"
   ]
  },
  {
   "cell_type": "markdown",
   "metadata": {},
   "source": [
    "## Prompt templates\n",
    "LangChain's Chat Models Docs\n",
    "\n",
    "> https://python.langchain.com/docs/integrations/chat/\n"
   ]
  },
  {
   "cell_type": "code",
   "execution_count": null,
   "metadata": {},
   "outputs": [],
   "source": []
  }
 ],
 "metadata": {
  "kernelspec": {
   "display_name": "galenus-ai",
   "language": "python",
   "name": "python3"
  },
  "language_info": {
   "codemirror_mode": {
    "name": "ipython",
    "version": 3
   },
   "file_extension": ".py",
   "mimetype": "text/x-python",
   "name": "python",
   "nbconvert_exporter": "python",
   "pygments_lexer": "ipython3",
   "version": "3.10.16"
  }
 },
 "nbformat": 4,
 "nbformat_minor": 2
}
